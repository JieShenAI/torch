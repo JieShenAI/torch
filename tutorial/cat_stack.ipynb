{
 "cells": [
  {
   "cell_type": "code",
   "execution_count": 2,
   "metadata": {},
   "outputs": [],
   "source": [
    "import torch"
   ]
  },
  {
   "attachments": {},
   "cell_type": "markdown",
   "metadata": {},
   "source": [
    "定义tensor"
   ]
  },
  {
   "cell_type": "code",
   "execution_count": 4,
   "metadata": {},
   "outputs": [
    {
     "data": {
      "text/plain": [
       "(tensor([[[0, 1],\n",
       "          [2, 3]],\n",
       " \n",
       "         [[4, 5],\n",
       "          [6, 7]]]),\n",
       " torch.Size([2, 2, 2]))"
      ]
     },
     "execution_count": 4,
     "metadata": {},
     "output_type": "execute_result"
    }
   ],
   "source": [
    "tensor = torch.arange(8)\n",
    "tensor = tensor.view(2, 2, 2)\n",
    "tensor,tensor.shape"
   ]
  },
  {
   "attachments": {},
   "cell_type": "markdown",
   "metadata": {},
   "source": [
    "## cat\n",
    "在三个维度进行cat"
   ]
  },
  {
   "cell_type": "code",
   "execution_count": 9,
   "metadata": {},
   "outputs": [
    {
     "data": {
      "text/plain": [
       "(tensor([[[0, 1],\n",
       "          [2, 3]],\n",
       " \n",
       "         [[4, 5],\n",
       "          [6, 7]],\n",
       " \n",
       "         [[0, 1],\n",
       "          [2, 3]],\n",
       " \n",
       "         [[4, 5],\n",
       "          [6, 7]],\n",
       " \n",
       "         [[0, 1],\n",
       "          [2, 3]],\n",
       " \n",
       "         [[4, 5],\n",
       "          [6, 7]]]),\n",
       " torch.Size([6, 2, 2]))"
      ]
     },
     "execution_count": 9,
     "metadata": {},
     "output_type": "execute_result"
    }
   ],
   "source": [
    "_ = torch.cat([tensor, tensor, tensor], dim=0)\n",
    "_,_.shape"
   ]
  },
  {
   "cell_type": "code",
   "execution_count": 10,
   "metadata": {},
   "outputs": [
    {
     "data": {
      "text/plain": [
       "(tensor([[[0, 1],\n",
       "          [2, 3],\n",
       "          [0, 1],\n",
       "          [2, 3],\n",
       "          [0, 1],\n",
       "          [2, 3]],\n",
       " \n",
       "         [[4, 5],\n",
       "          [6, 7],\n",
       "          [4, 5],\n",
       "          [6, 7],\n",
       "          [4, 5],\n",
       "          [6, 7]]]),\n",
       " torch.Size([2, 6, 2]))"
      ]
     },
     "execution_count": 10,
     "metadata": {},
     "output_type": "execute_result"
    }
   ],
   "source": [
    "_ = torch.cat([tensor, tensor, tensor], dim=1)\n",
    "_,_.shape"
   ]
  },
  {
   "cell_type": "code",
   "execution_count": 12,
   "metadata": {},
   "outputs": [
    {
     "data": {
      "text/plain": [
       "(tensor([[[0, 1, 0, 1, 0, 1],\n",
       "          [2, 3, 2, 3, 2, 3]],\n",
       " \n",
       "         [[4, 5, 4, 5, 4, 5],\n",
       "          [6, 7, 6, 7, 6, 7]]]),\n",
       " torch.Size([2, 2, 6]))"
      ]
     },
     "execution_count": 12,
     "metadata": {},
     "output_type": "execute_result"
    }
   ],
   "source": [
    "_ = torch.cat([tensor, tensor, tensor], dim=2)\n",
    "_,_.shape"
   ]
  },
  {
   "attachments": {},
   "cell_type": "markdown",
   "metadata": {},
   "source": [
    "## stack"
   ]
  },
  {
   "cell_type": "code",
   "execution_count": 13,
   "metadata": {},
   "outputs": [
    {
     "data": {
      "text/plain": [
       "(tensor([[[[0, 1],\n",
       "           [2, 3]],\n",
       " \n",
       "          [[4, 5],\n",
       "           [6, 7]]],\n",
       " \n",
       " \n",
       "         [[[0, 1],\n",
       "           [2, 3]],\n",
       " \n",
       "          [[4, 5],\n",
       "           [6, 7]]],\n",
       " \n",
       " \n",
       "         [[[0, 1],\n",
       "           [2, 3]],\n",
       " \n",
       "          [[4, 5],\n",
       "           [6, 7]]]]),\n",
       " torch.Size([3, 2, 2, 2]))"
      ]
     },
     "execution_count": 13,
     "metadata": {},
     "output_type": "execute_result"
    }
   ],
   "source": [
    "_ = torch.stack([tensor, tensor, tensor], dim=0)\n",
    "_,_.shape"
   ]
  },
  {
   "cell_type": "code",
   "execution_count": 14,
   "metadata": {},
   "outputs": [
    {
     "data": {
      "text/plain": [
       "(tensor([[[[0, 1],\n",
       "           [2, 3]],\n",
       " \n",
       "          [[0, 1],\n",
       "           [2, 3]],\n",
       " \n",
       "          [[0, 1],\n",
       "           [2, 3]]],\n",
       " \n",
       " \n",
       "         [[[4, 5],\n",
       "           [6, 7]],\n",
       " \n",
       "          [[4, 5],\n",
       "           [6, 7]],\n",
       " \n",
       "          [[4, 5],\n",
       "           [6, 7]]]]),\n",
       " torch.Size([2, 3, 2, 2]))"
      ]
     },
     "execution_count": 14,
     "metadata": {},
     "output_type": "execute_result"
    }
   ],
   "source": [
    "_ = torch.stack([tensor, tensor, tensor], dim=1)\n",
    "_,_.shape"
   ]
  },
  {
   "cell_type": "code",
   "execution_count": 6,
   "metadata": {},
   "outputs": [
    {
     "data": {
      "text/plain": [
       "(tensor([[[[0, 0, 0],\n",
       "           [1, 1, 1]],\n",
       " \n",
       "          [[2, 2, 2],\n",
       "           [3, 3, 3]]],\n",
       " \n",
       " \n",
       "         [[[4, 4, 4],\n",
       "           [5, 5, 5]],\n",
       " \n",
       "          [[6, 6, 6],\n",
       "           [7, 7, 7]]]]),\n",
       " torch.Size([2, 2, 2, 3]))"
      ]
     },
     "execution_count": 6,
     "metadata": {},
     "output_type": "execute_result"
    }
   ],
   "source": [
    "_ = torch.stack([tensor, tensor, tensor], dim=3)\n",
    "_,_.shape"
   ]
  },
  {
   "cell_type": "code",
   "execution_count": null,
   "metadata": {},
   "outputs": [],
   "source": []
  }
 ],
 "metadata": {
  "kernelspec": {
   "display_name": "base",
   "language": "python",
   "name": "python3"
  },
  "language_info": {
   "codemirror_mode": {
    "name": "ipython",
    "version": 3
   },
   "file_extension": ".py",
   "mimetype": "text/x-python",
   "name": "python",
   "nbconvert_exporter": "python",
   "pygments_lexer": "ipython3",
   "version": "3.9.13 (main, Aug 25 2022, 23:51:50) [MSC v.1916 64 bit (AMD64)]"
  },
  "orig_nbformat": 4,
  "vscode": {
   "interpreter": {
    "hash": "2e1e609ed4275b16681bc4abde79d07778f26b9708257cdaa3e43b60c63d82f8"
   }
  }
 },
 "nbformat": 4,
 "nbformat_minor": 2
}

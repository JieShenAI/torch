{
 "cells": [
  {
   "cell_type": "code",
   "execution_count": 2,
   "metadata": {},
   "outputs": [],
   "source": [
    "import torch\n",
    "from torch.utils.data import Dataset"
   ]
  },
  {
   "attachments": {},
   "cell_type": "markdown",
   "metadata": {},
   "source": [
    "## 自定义数据集"
   ]
  },
  {
   "attachments": {},
   "cell_type": "markdown",
   "metadata": {},
   "source": [
    "创建数据集的数据"
   ]
  },
  {
   "cell_type": "code",
   "execution_count": 1,
   "metadata": {},
   "outputs": [],
   "source": [
    "import pandas as pd"
   ]
  },
  {
   "cell_type": "code",
   "execution_count": 3,
   "metadata": {},
   "outputs": [],
   "source": [
    "class CustomDataset(Dataset):\n",
    "    def __init__(self, csv_path, transforms=None):\n",
    "        self.data = pd.read_csv(csv_path)\n",
    "        self.transforms = transforms\n",
    "    def __len__(self):\n",
    "        return len(self.data)\n",
    "    def __getitem__(self, idx):\n",
    "        if torch.is_tensor(idx):\n",
    "            idx = idx.tolist()\n",
    "        data = self.data.iloc[idx, 0]\n",
    "        label = self.data.iloc[idx, 1]\n",
    "        if self.transforms:\n",
    "            data = self.transforms(data)\n",
    "        return data, label"
   ]
  },
  {
   "cell_type": "code",
   "execution_count": 4,
   "metadata": {},
   "outputs": [],
   "source": [
    "custom_dataset = CustomDataset(\"./data/jie/data.csv\")"
   ]
  },
  {
   "cell_type": "code",
   "execution_count": 5,
   "metadata": {},
   "outputs": [
    {
     "data": {
      "text/plain": [
       "1000"
      ]
     },
     "execution_count": 5,
     "metadata": {},
     "output_type": "execute_result"
    }
   ],
   "source": [
    "len(custom_dataset)"
   ]
  },
  {
   "cell_type": "code",
   "execution_count": 14,
   "metadata": {},
   "outputs": [
    {
     "data": {
      "text/plain": [
       "(17, 170)"
      ]
     },
     "execution_count": 14,
     "metadata": {},
     "output_type": "execute_result"
    }
   ],
   "source": [
    "value,label = custom_dataset[17]\n",
    "value,label"
   ]
  },
  {
   "cell_type": "code",
   "execution_count": 15,
   "metadata": {},
   "outputs": [],
   "source": [
    "value,label = custom_dataset[[1,3,6]]"
   ]
  },
  {
   "cell_type": "code",
   "execution_count": 18,
   "metadata": {},
   "outputs": [
    {
     "data": {
      "text/plain": [
       "pandas.core.series.Series"
      ]
     },
     "execution_count": 18,
     "metadata": {},
     "output_type": "execute_result"
    }
   ],
   "source": [
    "type(value)"
   ]
  },
  {
   "cell_type": "code",
   "execution_count": 6,
   "metadata": {},
   "outputs": [],
   "source": [
    "from torch.utils.data import DataLoader\n",
    "\n",
    "train_dataloader = DataLoader(custom_dataset, batch_size=200, shuffle=True)"
   ]
  },
  {
   "cell_type": "code",
   "execution_count": 20,
   "metadata": {},
   "outputs": [
    {
     "data": {
      "text/plain": [
       "<torch.utils.data.dataloader.DataLoader at 0x283124d44f0>"
      ]
     },
     "execution_count": 20,
     "metadata": {},
     "output_type": "execute_result"
    }
   ],
   "source": [
    "train_dataloader"
   ]
  },
  {
   "attachments": {},
   "cell_type": "markdown",
   "metadata": {},
   "source": [
    "数据集的长度"
   ]
  },
  {
   "cell_type": "code",
   "execution_count": 7,
   "metadata": {},
   "outputs": [
    {
     "data": {
      "text/plain": [
       "1000"
      ]
     },
     "execution_count": 7,
     "metadata": {},
     "output_type": "execute_result"
    }
   ],
   "source": [
    "len(train_dataloader.dataset)"
   ]
  },
  {
   "attachments": {},
   "cell_type": "markdown",
   "metadata": {},
   "source": [
    "划分成batch的数量"
   ]
  },
  {
   "cell_type": "code",
   "execution_count": 11,
   "metadata": {},
   "outputs": [
    {
     "data": {
      "text/plain": [
       "5"
      ]
     },
     "execution_count": 11,
     "metadata": {},
     "output_type": "execute_result"
    }
   ],
   "source": [
    "len(train_dataloader)"
   ]
  },
  {
   "cell_type": "code",
   "execution_count": 9,
   "metadata": {},
   "outputs": [
    {
     "data": {
      "text/plain": [
       "(1000, 2)"
      ]
     },
     "execution_count": 9,
     "metadata": {},
     "output_type": "execute_result"
    }
   ],
   "source": [
    "train_dataloader.dataset.data.shape"
   ]
  },
  {
   "cell_type": "code",
   "execution_count": 10,
   "metadata": {},
   "outputs": [
    {
     "data": {
      "text/html": [
       "<div>\n",
       "<style scoped>\n",
       "    .dataframe tbody tr th:only-of-type {\n",
       "        vertical-align: middle;\n",
       "    }\n",
       "\n",
       "    .dataframe tbody tr th {\n",
       "        vertical-align: top;\n",
       "    }\n",
       "\n",
       "    .dataframe thead th {\n",
       "        text-align: right;\n",
       "    }\n",
       "</style>\n",
       "<table border=\"1\" class=\"dataframe\">\n",
       "  <thead>\n",
       "    <tr style=\"text-align: right;\">\n",
       "      <th></th>\n",
       "      <th>nums</th>\n",
       "      <th>labels</th>\n",
       "    </tr>\n",
       "  </thead>\n",
       "  <tbody>\n",
       "    <tr>\n",
       "      <th>0</th>\n",
       "      <td>0</td>\n",
       "      <td>0</td>\n",
       "    </tr>\n",
       "    <tr>\n",
       "      <th>1</th>\n",
       "      <td>1</td>\n",
       "      <td>10</td>\n",
       "    </tr>\n",
       "    <tr>\n",
       "      <th>2</th>\n",
       "      <td>2</td>\n",
       "      <td>20</td>\n",
       "    </tr>\n",
       "  </tbody>\n",
       "</table>\n",
       "</div>"
      ],
      "text/plain": [
       "   nums  labels\n",
       "0     0       0\n",
       "1     1      10\n",
       "2     2      20"
      ]
     },
     "execution_count": 10,
     "metadata": {},
     "output_type": "execute_result"
    }
   ],
   "source": [
    "train_dataloader.dataset.data[:3:]"
   ]
  },
  {
   "cell_type": "code",
   "execution_count": 22,
   "metadata": {},
   "outputs": [],
   "source": [
    "features , labels = next(iter(train_dataloader))"
   ]
  },
  {
   "cell_type": "code",
   "execution_count": 23,
   "metadata": {},
   "outputs": [
    {
     "data": {
      "text/plain": [
       "torch.Size([200])"
      ]
     },
     "execution_count": 23,
     "metadata": {},
     "output_type": "execute_result"
    }
   ],
   "source": [
    "features.size()"
   ]
  },
  {
   "cell_type": "code",
   "execution_count": 24,
   "metadata": {},
   "outputs": [
    {
     "data": {
      "text/plain": [
       "tensor([870, 618, 494, 802, 446, 905, 768, 707, 339, 142, 657, 930, 433, 550,\n",
       "        562, 460, 144, 308, 613, 701,  65, 761,  25, 970, 421, 594, 713, 425,\n",
       "        771, 552, 202, 567, 172, 710, 365, 700, 471, 631, 298, 908, 533, 100,\n",
       "         84, 355,  52, 374, 951, 646, 810, 108, 149, 715, 590, 387,  58, 750,\n",
       "         71, 661, 886, 906, 794, 601, 366, 334, 385, 389, 186, 895,  22, 393,\n",
       "         42, 956,  16,  98, 381, 985, 968, 175, 256, 914, 553, 856, 373, 818,\n",
       "        937, 257, 877, 551, 288, 412, 219, 758, 935, 179, 859, 110,  54, 426,\n",
       "        328, 415, 304, 577, 117, 535, 150, 842, 143, 281, 531, 429,  64, 785,\n",
       "        462, 815, 805, 620, 991,  70, 350, 199, 963, 639, 873, 799, 496, 812,\n",
       "        518, 547, 128, 398, 409, 458, 990, 236, 371, 598,  63, 999, 876,  11,\n",
       "        138, 891, 377, 121, 448,  24, 682,  12, 730, 286, 889, 269,  74, 510,\n",
       "        855, 180, 912,  44, 580, 129, 775, 252, 714,  60, 427, 781, 555, 697,\n",
       "        192, 467, 696, 674,   6, 630, 195, 249, 171, 305, 938, 125,  50, 981,\n",
       "        469, 640, 708, 375, 745, 833, 832, 300, 114, 675, 987, 566, 760, 520,\n",
       "        481, 641, 209,  91])"
      ]
     },
     "execution_count": 24,
     "metadata": {},
     "output_type": "execute_result"
    }
   ],
   "source": [
    "features"
   ]
  },
  {
   "cell_type": "code",
   "execution_count": 25,
   "metadata": {},
   "outputs": [
    {
     "data": {
      "text/plain": [
       "tensor([8700, 6180, 4940, 8020, 4460, 9050, 7680, 7070, 3390, 1420, 6570, 9300,\n",
       "        4330, 5500, 5620, 4600, 1440, 3080, 6130, 7010,  650, 7610,  250, 9700,\n",
       "        4210, 5940, 7130, 4250, 7710, 5520, 2020, 5670, 1720, 7100, 3650, 7000,\n",
       "        4710, 6310, 2980, 9080, 5330, 1000,  840, 3550,  520, 3740, 9510, 6460,\n",
       "        8100, 1080, 1490, 7150, 5900, 3870,  580, 7500,  710, 6610, 8860, 9060,\n",
       "        7940, 6010, 3660, 3340, 3850, 3890, 1860, 8950,  220, 3930,  420, 9560,\n",
       "         160,  980, 3810, 9850, 9680, 1750, 2560, 9140, 5530, 8560, 3730, 8180,\n",
       "        9370, 2570, 8770, 5510, 2880, 4120, 2190, 7580, 9350, 1790, 8590, 1100,\n",
       "         540, 4260, 3280, 4150, 3040, 5770, 1170, 5350, 1500, 8420, 1430, 2810,\n",
       "        5310, 4290,  640, 7850, 4620, 8150, 8050, 6200, 9910,  700, 3500, 1990,\n",
       "        9630, 6390, 8730, 7990, 4960, 8120, 5180, 5470, 1280, 3980, 4090, 4580,\n",
       "        9900, 2360, 3710, 5980,  630, 9990, 8760,  110, 1380, 8910, 3770, 1210,\n",
       "        4480,  240, 6820,  120, 7300, 2860, 8890, 2690,  740, 5100, 8550, 1800,\n",
       "        9120,  440, 5800, 1290, 7750, 2520, 7140,  600, 4270, 7810, 5550, 6970,\n",
       "        1920, 4670, 6960, 6740,   60, 6300, 1950, 2490, 1710, 3050, 9380, 1250,\n",
       "         500, 9810, 4690, 6400, 7080, 3750, 7450, 8330, 8320, 3000, 1140, 6750,\n",
       "        9870, 5660, 7600, 5200, 4810, 6410, 2090,  910])"
      ]
     },
     "execution_count": 25,
     "metadata": {},
     "output_type": "execute_result"
    }
   ],
   "source": [
    "labels"
   ]
  },
  {
   "cell_type": "code",
   "execution_count": 27,
   "metadata": {},
   "outputs": [
    {
     "name": "stdout",
     "output_type": "stream",
     "text": [
      "torch.Size([200])\n",
      "torch.Size([200])\n",
      "torch.Size([200])\n",
      "torch.Size([200])\n",
      "torch.Size([200])\n"
     ]
    }
   ],
   "source": [
    "for features,labels in train_dataloader:\n",
    "    print(features.size())"
   ]
  }
 ],
 "metadata": {
  "kernelspec": {
   "display_name": "base",
   "language": "python",
   "name": "python3"
  },
  "language_info": {
   "codemirror_mode": {
    "name": "ipython",
    "version": 3
   },
   "file_extension": ".py",
   "mimetype": "text/x-python",
   "name": "python",
   "nbconvert_exporter": "python",
   "pygments_lexer": "ipython3",
   "version": "3.9.15"
  },
  "orig_nbformat": 4,
  "vscode": {
   "interpreter": {
    "hash": "2e1e609ed4275b16681bc4abde79d07778f26b9708257cdaa3e43b60c63d82f8"
   }
  }
 },
 "nbformat": 4,
 "nbformat_minor": 2
}

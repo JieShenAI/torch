{
  "cells": [
    {
      "cell_type": "markdown",
      "metadata": {
        "id": "view-in-github",
        "colab_type": "text"
      },
      "source": [
        "<a href=\"https://colab.research.google.com/github/JieShenAI/torch/blob/main/API/torch_api.ipynb\" target=\"_parent\"><img src=\"https://colab.research.google.com/assets/colab-badge.svg\" alt=\"Open In Colab\"/></a>"
      ]
    },
    {
      "cell_type": "markdown",
      "metadata": {
        "id": "JI6rcMzGWTSU"
      },
      "source": [
        "# torch API"
      ]
    },
    {
      "cell_type": "markdown",
      "metadata": {
        "id": "UjF0X4MEWTSW"
      },
      "source": [
        "> 梳理、整理torch的一些API的用法"
      ]
    },
    {
      "cell_type": "code",
      "source": [
        "import torch\n",
        "from torch import nn"
      ],
      "metadata": {
        "id": "prHV15SiWX0M"
      },
      "execution_count": 1,
      "outputs": []
    },
    {
      "cell_type": "markdown",
      "metadata": {
        "id": "itI8VKMUWTSY"
      },
      "source": [
        "* torch.chunk\n",
        "\n",
        "  chunk(input, chunks, dim=0) -> 张量列表 \n",
        "\n",
        "  尝试将张量拆分为指定数量的块。 每个块都是一个视图 输入张量。"
      ]
    },
    {
      "cell_type": "code",
      "source": [
        "get_tensor = lambda: torch.arange(1,13,dtype=torch.float32).reshape(3,4)"
      ],
      "metadata": {
        "id": "9kmCMjtVWnGc"
      },
      "execution_count": 3,
      "outputs": []
    },
    {
      "cell_type": "code",
      "execution_count": null,
      "metadata": {
        "id": "xMgNSkVGWTSa"
      },
      "outputs": [],
      "source": [
        "def chunk():\n",
        "  return torch.chunk(get_tensor(), 3, 0), \\\n",
        "      torch.chunk(get_tensor(), 4, -1)\n",
        "chunk()"
      ]
    },
    {
      "cell_type": "code",
      "execution_count": null,
      "metadata": {
        "id": "4qfsu9IpWTSc"
      },
      "outputs": [],
      "source": []
    }
  ],
  "metadata": {
    "kernelspec": {
      "display_name": "base",
      "language": "python",
      "name": "python3"
    },
    "language_info": {
      "codemirror_mode": {
        "name": "ipython",
        "version": 3
      },
      "file_extension": ".py",
      "mimetype": "text/x-python",
      "name": "python",
      "nbconvert_exporter": "python",
      "pygments_lexer": "ipython3",
      "version": "3.9.15"
    },
    "orig_nbformat": 4,
    "colab": {
      "provenance": [],
      "include_colab_link": true
    }
  },
  "nbformat": 4,
  "nbformat_minor": 0
}
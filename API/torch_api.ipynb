{
  "cells": [
    {
      "cell_type": "markdown",
      "metadata": {
        "id": "view-in-github",
        "colab_type": "text"
      },
      "source": [
        "<a href=\"https://colab.research.google.com/github/JieShenAI/torch/blob/main/API/torch_api.ipynb\" target=\"_parent\"><img src=\"https://colab.research.google.com/assets/colab-badge.svg\" alt=\"Open In Colab\"/></a>"
      ]
    },
    {
      "cell_type": "markdown",
      "metadata": {
        "id": "JI6rcMzGWTSU"
      },
      "source": [
        "# torch API"
      ]
    },
    {
      "cell_type": "markdown",
      "metadata": {
        "id": "UjF0X4MEWTSW"
      },
      "source": [
        "> 梳理、整理torch的一些API的用法"
      ]
    },
    {
      "cell_type": "code",
      "source": [
        "import torch\n",
        "from torch import nn"
      ],
      "metadata": {
        "id": "prHV15SiWX0M"
      },
      "execution_count": 1,
      "outputs": []
    },
    {
      "cell_type": "code",
      "source": [
        "import copy"
      ],
      "metadata": {
        "id": "Nj95zMGtp7W7"
      },
      "execution_count": 2,
      "outputs": []
    },
    {
      "cell_type": "markdown",
      "source": [
        "## 模型模块结构"
      ],
      "metadata": {
        "id": "V2zFTLJFpuVj"
      }
    },
    {
      "cell_type": "markdown",
      "source": [
        "## 通用函数"
      ],
      "metadata": {
        "id": "nI_blGG4qUYa"
      }
    },
    {
      "cell_type": "code",
      "source": [
        "get_tensor = lambda: torch.arange(1,13,dtype=torch.float32).reshape(3,4)"
      ],
      "metadata": {
        "id": "9kmCMjtVWnGc"
      },
      "execution_count": 4,
      "outputs": []
    },
    {
      "cell_type": "markdown",
      "source": [
        "### 模型列表"
      ],
      "metadata": {
        "id": "iGpyjWF-pzrd"
      }
    },
    {
      "cell_type": "code",
      "source": [
        "# 可以通过切片拿到模型\n",
        "def clones(module, N):\n",
        "  \"Produce N identical layers.\"\n",
        "  return nn.ModuleList([copy.deepcopy(module) for _ in range(N)])"
      ],
      "metadata": {
        "id": "Eg4kWwODpzIU"
      },
      "execution_count": 3,
      "outputs": []
    },
    {
      "cell_type": "markdown",
      "source": [
        "## API"
      ],
      "metadata": {
        "id": "z-nNSQu0pxbE"
      }
    },
    {
      "cell_type": "markdown",
      "metadata": {
        "id": "itI8VKMUWTSY"
      },
      "source": [
        "* torch.chunk\n",
        "\n",
        "  chunk(input, chunks, dim=0) -> 张量列表 \n",
        "\n",
        "  尝试将张量拆分为指定数量的块。 每个块都是一个视图 输入张量。"
      ]
    },
    {
      "cell_type": "code",
      "execution_count": null,
      "metadata": {
        "id": "xMgNSkVGWTSa"
      },
      "outputs": [],
      "source": [
        "def chunk():\n",
        "  return torch.chunk(get_tensor(), 3, 0), \\\n",
        "      torch.chunk(get_tensor(), 4, -1)\n",
        "chunk()"
      ]
    },
    {
      "cell_type": "markdown",
      "source": [
        "* torch.contiguous()"
      ],
      "metadata": {
        "id": "gXFmc-pkpo6_"
      }
    },
    {
      "cell_type": "markdown",
      "source": [
        "在`transpose`和`permute`之后，需要使用`contiguous()`之后，才能调用`view()`"
      ],
      "metadata": {
        "id": "BJC3ywWHqcgj"
      }
    },
    {
      "cell_type": "code",
      "execution_count": 11,
      "metadata": {
        "id": "4qfsu9IpWTSc",
        "colab": {
          "base_uri": "https://localhost:8080/"
        },
        "outputId": "3249d519-ac72-46e7-f508-d0229f4f7325"
      },
      "outputs": [
        {
          "output_type": "stream",
          "name": "stdout",
          "text": [
            "torch.Size([4, 3])\n"
          ]
        }
      ],
      "source": [
        "def contiguous_demo():\n",
        "  a = get_tensor()\n",
        "  a = a.transpose(0,1)\n",
        "  a = a.contiguous().view(4,3)\n",
        "  print(a.shape)\n",
        "contiguous_demo()"
      ]
    },
    {
      "cell_type": "code",
      "source": [],
      "metadata": {
        "id": "Aynxyc3Aq9wJ"
      },
      "execution_count": null,
      "outputs": []
    }
  ],
  "metadata": {
    "kernelspec": {
      "display_name": "base",
      "language": "python",
      "name": "python3"
    },
    "language_info": {
      "codemirror_mode": {
        "name": "ipython",
        "version": 3
      },
      "file_extension": ".py",
      "mimetype": "text/x-python",
      "name": "python",
      "nbconvert_exporter": "python",
      "pygments_lexer": "ipython3",
      "version": "3.9.15"
    },
    "orig_nbformat": 4,
    "colab": {
      "provenance": [],
      "toc_visible": true,
      "include_colab_link": true
    }
  },
  "nbformat": 4,
  "nbformat_minor": 0
}
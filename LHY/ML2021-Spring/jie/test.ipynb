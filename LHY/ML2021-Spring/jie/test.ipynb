{
 "cells": [
  {
   "cell_type": "markdown",
   "id": "1dbfc821",
   "metadata": {
    "ExecuteTime": {
     "end_time": "2023-03-13T02:50:48.556654Z",
     "start_time": "2023-03-13T02:50:48.538700Z"
    }
   },
   "source": [
    "# Demo"
   ]
  },
  {
   "cell_type": "markdown",
   "id": "8b5b5200",
   "metadata": {
    "ExecuteTime": {
     "end_time": "2023-03-13T02:44:59.916539Z",
     "start_time": "2023-03-13T02:44:59.904582Z"
    }
   },
   "source": [
    "## basic"
   ]
  },
  {
   "cell_type": "markdown",
   "id": "24c695f8",
   "metadata": {},
   "source": [
    "### jupyter notebook"
   ]
  },
  {
   "cell_type": "code",
   "execution_count": 1,
   "id": "7861bb43",
   "metadata": {
    "ExecuteTime": {
     "end_time": "2023-03-13T02:50:25.163617Z",
     "start_time": "2023-03-13T02:50:22.114873Z"
    }
   },
   "outputs": [],
   "source": [
    "import time\n",
    "for i in range(3):\n",
    "    time.sleep(1)"
   ]
  },
  {
   "cell_type": "code",
   "execution_count": 3,
   "id": "3586a89b",
   "metadata": {
    "ExecuteTime": {
     "end_time": "2023-03-13T02:51:11.505691Z",
     "start_time": "2023-03-13T02:51:08.200306Z"
    }
   },
   "outputs": [],
   "source": [
    "import torch"
   ]
  },
  {
   "cell_type": "code",
   "execution_count": 5,
   "id": "8f3e9719",
   "metadata": {
    "ExecuteTime": {
     "end_time": "2023-03-13T02:51:43.705767Z",
     "start_time": "2023-03-13T02:51:43.685797Z"
    }
   },
   "outputs": [],
   "source": [
    "torch?"
   ]
  },
  {
   "cell_type": "code",
   "execution_count": 6,
   "id": "977113c6",
   "metadata": {
    "ExecuteTime": {
     "end_time": "2023-03-13T02:52:05.463309Z",
     "start_time": "2023-03-13T02:52:04.914551Z"
    }
   },
   "outputs": [],
   "source": [
    "import pandas as pd"
   ]
  },
  {
   "cell_type": "code",
   "execution_count": 7,
   "id": "afb9beb6",
   "metadata": {
    "ExecuteTime": {
     "end_time": "2023-03-13T02:54:30.010269Z",
     "start_time": "2023-03-13T02:54:29.991307Z"
    }
   },
   "outputs": [],
   "source": [
    "t = 5"
   ]
  },
  {
   "cell_type": "code",
   "execution_count": null,
   "id": "11c17714",
   "metadata": {},
   "outputs": [],
   "source": []
  }
 ],
 "metadata": {
  "kernelspec": {
   "display_name": "Python 3 (ipykernel)",
   "language": "python",
   "name": "python3"
  },
  "language_info": {
   "codemirror_mode": {
    "name": "ipython",
    "version": 3
   },
   "file_extension": ".py",
   "mimetype": "text/x-python",
   "name": "python",
   "nbconvert_exporter": "python",
   "pygments_lexer": "ipython3",
   "version": "3.9.15"
  },
  "toc": {
   "base_numbering": 1,
   "nav_menu": {},
   "number_sections": true,
   "sideBar": true,
   "skip_h1_title": false,
   "title_cell": "Table of Contents",
   "title_sidebar": "Contents",
   "toc_cell": false,
   "toc_position": {
    "height": "calc(100% - 180px)",
    "left": "10px",
    "top": "150px",
    "width": "165px"
   },
   "toc_section_display": true,
   "toc_window_display": false
  },
  "varInspector": {
   "cols": {
    "lenName": 16,
    "lenType": 16,
    "lenVar": 40
   },
   "kernels_config": {
    "python": {
     "delete_cmd_postfix": "",
     "delete_cmd_prefix": "del ",
     "library": "var_list.py",
     "varRefreshCmd": "print(var_dic_list())"
    },
    "r": {
     "delete_cmd_postfix": ") ",
     "delete_cmd_prefix": "rm(",
     "library": "var_list.r",
     "varRefreshCmd": "cat(var_dic_list()) "
    }
   },
   "oldHeight": 122.85,
   "position": {
    "height": "144.45px",
    "left": "1242.2px",
    "right": "20px",
    "top": "120px",
    "width": "250px"
   },
   "types_to_exclude": [
    "module",
    "function",
    "builtin_function_or_method",
    "instance",
    "_Feature"
   ],
   "varInspector_section_display": "block",
   "window_display": true
  }
 },
 "nbformat": 4,
 "nbformat_minor": 5
}

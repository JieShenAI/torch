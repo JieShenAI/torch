{
 "cells": [
  {
   "cell_type": "code",
   "execution_count": 8,
   "metadata": {},
   "outputs": [],
   "source": [
    "import torch\n",
    "from torch import nn\n",
    "from torchtext.data.utils import get_tokenizer\n"
   ]
  },
  {
   "cell_type": "code",
   "execution_count": 17,
   "metadata": {},
   "outputs": [],
   "source": [
    "from torchtext.datasets import WikiText2\n",
    "from torchtext.data.utils import get_tokenizer\n",
    "from torchtext.vocab import build_vocab_from_iterator"
   ]
  },
  {
   "cell_type": "code",
   "execution_count": 16,
   "metadata": {},
   "outputs": [],
   "source": [
    "def IterTxt(path):\n",
    "    with open(path, 'r') as f:\n",
    "        for line in f:\n",
    "            yield line.strip().split()"
   ]
  },
  {
   "cell_type": "code",
   "execution_count": null,
   "metadata": {},
   "outputs": [],
   "source": [
    "build_vocab_from_iterator?"
   ]
  },
  {
   "cell_type": "code",
   "execution_count": 20,
   "metadata": {},
   "outputs": [],
   "source": [
    "vocab = build_vocab_from_iterator(IterTxt(\"eng.txt\"),specials=[\"<unk>\"],min_freq=2)"
   ]
  },
  {
   "cell_type": "code",
   "execution_count": 21,
   "metadata": {},
   "outputs": [],
   "source": [
    "vocab.set_default_index(vocab[\"<unk>\"])"
   ]
  },
  {
   "cell_type": "code",
   "execution_count": 44,
   "metadata": {},
   "outputs": [],
   "source": [
    "from collections import Counter\n",
    "s = []\n",
    "for line in IterTxt(\"eng.txt\"):\n",
    "    s += line\n",
    "d = Counter(s)"
   ]
  },
  {
   "cell_type": "code",
   "execution_count": 45,
   "metadata": {},
   "outputs": [
    {
     "data": {
      "text/plain": [
       "[('the', 9),\n",
       " ('of', 7),\n",
       " ('hundred', 4),\n",
       " ('years', 4),\n",
       " ('later,', 4),\n",
       " ('Negro', 4),\n",
       " ('still', 3),\n",
       " ('is', 3),\n",
       " ('One', 3),\n",
       " ('a', 3),\n",
       " ('in', 3),\n",
       " ('and', 2),\n",
       " ('But', 1),\n",
       " ('one', 1),\n",
       " ('not', 1),\n",
       " ('free.', 1),\n",
       " ('life', 1),\n",
       " ('sadly', 1),\n",
       " ('crippled', 1),\n",
       " ('by', 1),\n",
       " ('manacles', 1),\n",
       " ('segregation', 1),\n",
       " ('chains', 1),\n",
       " ('discrimination.', 1),\n",
       " ('lives', 1),\n",
       " ('on', 1),\n",
       " ('lonely', 1),\n",
       " ('island', 1),\n",
       " ('poverty', 1),\n",
       " ('midst', 1),\n",
       " ('vast', 1),\n",
       " ('ocean', 1),\n",
       " ('material', 1),\n",
       " ('prosperity.', 1),\n",
       " ('languished', 1),\n",
       " ('corners', 1),\n",
       " ('American', 1),\n",
       " ('society', 1),\n",
       " ('finds', 1),\n",
       " ('himself', 1),\n",
       " ('an', 1),\n",
       " ('exile', 1),\n",
       " ('his', 1),\n",
       " ('own', 1),\n",
       " ('land.', 1),\n",
       " ('And', 1),\n",
       " ('so', 1),\n",
       " (\"we've\", 1),\n",
       " ('come', 1),\n",
       " ('here', 1),\n",
       " ('today', 1),\n",
       " ('to', 1),\n",
       " ('dramatize', 1),\n",
       " ('shameful', 1),\n",
       " ('condition.', 1)]"
      ]
     },
     "execution_count": 45,
     "metadata": {},
     "output_type": "execute_result"
    }
   ],
   "source": [
    "sorted(d.items(),key=lambda x:x[1],reverse=True)"
   ]
  },
  {
   "cell_type": "code",
   "execution_count": 38,
   "metadata": {},
   "outputs": [
    {
     "data": {
      "text/plain": [
       "['<unk>',\n",
       " 'the',\n",
       " 'of',\n",
       " 'Negro',\n",
       " 'hundred',\n",
       " 'later,',\n",
       " 'years',\n",
       " 'One',\n",
       " 'a',\n",
       " 'in',\n",
       " 'is',\n",
       " 'still',\n",
       " 'and']"
      ]
     },
     "execution_count": 38,
     "metadata": {},
     "output_type": "execute_result"
    }
   ],
   "source": [
    "vocab.get_itos()"
   ]
  },
  {
   "cell_type": "code",
   "execution_count": 39,
   "metadata": {},
   "outputs": [
    {
     "data": {
      "text/plain": [
       "{'<unk>': 0,\n",
       " 'the': 1,\n",
       " 'of': 2,\n",
       " 'Negro': 3,\n",
       " 'hundred': 4,\n",
       " 'One': 7,\n",
       " 'later,': 5,\n",
       " 'years': 6,\n",
       " 'a': 8,\n",
       " 'in': 9,\n",
       " 'is': 10,\n",
       " 'still': 11,\n",
       " 'and': 12}"
      ]
     },
     "execution_count": 39,
     "metadata": {},
     "output_type": "execute_result"
    }
   ],
   "source": [
    "vocab.get_stoi()"
   ]
  },
  {
   "attachments": {},
   "cell_type": "markdown",
   "metadata": {},
   "source": [
    "## 汉语"
   ]
  },
  {
   "cell_type": "code",
   "execution_count": 48,
   "metadata": {},
   "outputs": [
    {
     "data": {
      "text/plain": [
       "(5,\n",
       " ['但美国政府和业界人士担心，在医学和商用领域之外，脑机接口可能被运用到军事领域，因此有必要对敏感国家获取此类技术施加限制。',\n",
       "  '美国佐治亚理工学院副教授、技术政策专家玛格丽特‧科萨尔（Margaret Kosal）说，人脑对机器人进行直接控制的技术，极有可能被用在未来战场上，而中国的战争伦理与西方定义不同，这可能造成在脑机接口的军事应用上的中西方不对称。',\n",
       "  '科萨尔对美国之音说：“（脑机接口技术）进行调整后，你可以让操作者、让一名士兵……直接以更高的精度移动机器人。',\n",
       "  '她说，脑机接口的另一种潜在的应用，是让士兵身着功能强大的“外骨骼”。科萨尔说：“这让士兵能够承受更大的负荷，从而能够更长时间地移动，减少对自己身体的需求。”',\n",
       "  '“有一个很大的担忧是，某些国家——可能是中国……也可能是另一个国家，在强迫士兵做某些事情方面可能不会有那些美国会有的顾虑。”科萨尔说：“因此，人们担心的是，这些能力是否会被强加给士兵，或者他们是否愿意接受我们不愿意接受的东西，这可能会造成这些不同能力之间的不对称。”'])"
      ]
     },
     "execution_count": 48,
     "metadata": {},
     "output_type": "execute_result"
    }
   ],
   "source": [
    "data = []\n",
    "with open(\"zh.txt\",\"r\") as f:\n",
    "    for line in f.readlines():\n",
    "        data.append(line.strip())\n",
    "len(data),data[:10]"
   ]
  },
  {
   "cell_type": "code",
   "execution_count": 52,
   "metadata": {},
   "outputs": [],
   "source": [
    "vocab_zh = build_vocab_from_iterator(data,specials=[\"<unk>\"],min_freq=2)"
   ]
  },
  {
   "cell_type": "code",
   "execution_count": 53,
   "metadata": {},
   "outputs": [
    {
     "data": {
      "text/plain": [
       "{'<unk>': 0,\n",
       " '另': 62,\n",
       " '个': 55,\n",
       " '更': 46,\n",
       " '可': 5,\n",
       " '士': 10,\n",
       " '受': 41,\n",
       " '，': 1,\n",
       " '的': 2,\n",
       " '接': 6,\n",
       " '因': 67,\n",
       " '能': 3,\n",
       " '们': 40,\n",
       " '。': 7,\n",
       " '家': 28,\n",
       " '中': 37,\n",
       " '说': 21,\n",
       " '是': 8,\n",
       " '国': 4,\n",
       " '同': 63,\n",
       " '在': 17,\n",
       " '：': 50,\n",
       " '不': 9,\n",
       " '被': 48,\n",
       " '对': 11,\n",
       " '机': 12,\n",
       " '“': 13,\n",
       " '术': 31,\n",
       " '些': 14,\n",
       " '一': 25,\n",
       " '人': 15,\n",
       " '兵': 16,\n",
       " '有': 18,\n",
       " '加': 60,\n",
       " '口': 27,\n",
       " '用': 19,\n",
       " '脑': 20,\n",
       " '这': 22,\n",
       " '”': 23,\n",
       " '…': 24,\n",
       " '会': 26,\n",
       " '方': 45,\n",
       " '理': 80,\n",
       " 'a': 36,\n",
       " '尔': 29,\n",
       " '西': 49,\n",
       " '技': 30,\n",
       " '科': 32,\n",
       " '美': 33,\n",
       " '萨': 34,\n",
       " '让': 35,\n",
       " '之': 38,\n",
       " '事': 39,\n",
       " '—': 52,\n",
       " '大': 42,\n",
       " '行': 86,\n",
       " '强': 43,\n",
       " '担': 44,\n",
       " '此': 47,\n",
       " 'r': 51,\n",
       " '、': 53,\n",
       " '上': 54,\n",
       " '以': 56,\n",
       " '军': 57,\n",
       " '（': 92,\n",
       " '制': 58,\n",
       " '力': 59,\n",
       " '动': 61,\n",
       " '否': 64,\n",
       " '应': 72,\n",
       " '和': 65,\n",
       " '直': 81,\n",
       " '器': 66,\n",
       " '域': 68,\n",
       " '外': 69,\n",
       " '够': 70,\n",
       " '学': 71,\n",
       " '心': 73,\n",
       " '移': 83,\n",
       " '意': 74,\n",
       " '愿': 75,\n",
       " '成': 76,\n",
       " '战': 77,\n",
       " '政': 78,\n",
       " '某': 79,\n",
       " '称': 82,\n",
       " '者': 84,\n",
       " '而': 85,\n",
       " '身': 87,\n",
       " '进': 88,\n",
       " '造': 89,\n",
       " '间': 90,\n",
       " '领': 91,\n",
       " '）': 93}"
      ]
     },
     "execution_count": 53,
     "metadata": {},
     "output_type": "execute_result"
    }
   ],
   "source": [
    "vocab_zh.get_stoi()"
   ]
  },
  {
   "cell_type": "code",
   "execution_count": 55,
   "metadata": {},
   "outputs": [
    {
     "data": {
      "text/plain": [
       "2"
      ]
     },
     "execution_count": 55,
     "metadata": {},
     "output_type": "execute_result"
    }
   ],
   "source": [
    "vocab_zh[\"的\"]"
   ]
  },
  {
   "cell_type": "code",
   "execution_count": 51,
   "metadata": {},
   "outputs": [
    {
     "data": {
      "text/plain": [
       "['<unk>',\n",
       " '，',\n",
       " '的',\n",
       " '能',\n",
       " '国',\n",
       " '可',\n",
       " '接',\n",
       " '。',\n",
       " '是',\n",
       " '不',\n",
       " '士',\n",
       " '对',\n",
       " '机',\n",
       " '“',\n",
       " '些',\n",
       " '人',\n",
       " '兵',\n",
       " '在',\n",
       " '有',\n",
       " '用',\n",
       " '脑',\n",
       " '说',\n",
       " '这',\n",
       " '”',\n",
       " '…',\n",
       " '一',\n",
       " '会',\n",
       " '口',\n",
       " '家',\n",
       " '尔',\n",
       " '技',\n",
       " '术',\n",
       " '科',\n",
       " '美',\n",
       " '萨',\n",
       " '让',\n",
       " 'a',\n",
       " '中',\n",
       " '之',\n",
       " '事',\n",
       " '们',\n",
       " '受',\n",
       " '大',\n",
       " '强',\n",
       " '担',\n",
       " '方',\n",
       " '更',\n",
       " '此',\n",
       " '被',\n",
       " '西',\n",
       " '：',\n",
       " 'r',\n",
       " '—',\n",
       " '、',\n",
       " '上',\n",
       " '个',\n",
       " '以',\n",
       " '军',\n",
       " '制',\n",
       " '力',\n",
       " '加',\n",
       " '动',\n",
       " '另',\n",
       " '同',\n",
       " '否',\n",
       " '和',\n",
       " '器',\n",
       " '因',\n",
       " '域',\n",
       " '外',\n",
       " '够',\n",
       " '学',\n",
       " '应',\n",
       " '心',\n",
       " '意',\n",
       " '愿',\n",
       " '成',\n",
       " '战',\n",
       " '政',\n",
       " '某',\n",
       " '理',\n",
       " '直',\n",
       " '称',\n",
       " '移',\n",
       " '者',\n",
       " '而',\n",
       " '行',\n",
       " '身',\n",
       " '进',\n",
       " '造',\n",
       " '间',\n",
       " '领',\n",
       " '（',\n",
       " '）']"
      ]
     },
     "execution_count": 51,
     "metadata": {},
     "output_type": "execute_result"
    }
   ],
   "source": [
    "vocab.get_itos()"
   ]
  },
  {
   "cell_type": "code",
   "execution_count": null,
   "metadata": {},
   "outputs": [],
   "source": [
    "vocab = build_vocab_from_iterator(IterTxt(\"eng.txt\"),specials=[\"<unk>\"],min_freq=2)"
   ]
  },
  {
   "cell_type": "code",
   "execution_count": 36,
   "metadata": {},
   "outputs": [
    {
     "data": {
      "text/plain": [
       "torchtext.vocab.vocab.Vocab"
      ]
     },
     "execution_count": 36,
     "metadata": {},
     "output_type": "execute_result"
    }
   ],
   "source": [
    "type(vocab)"
   ]
  },
  {
   "cell_type": "code",
   "execution_count": 37,
   "metadata": {},
   "outputs": [],
   "source": [
    "from torchtext.vocab.vocab import Vocab"
   ]
  },
  {
   "cell_type": "code",
   "execution_count": null,
   "metadata": {},
   "outputs": [],
   "source": [
    "[s for s in dir(vocab) if not s.startswith(\"_\")]"
   ]
  },
  {
   "cell_type": "code",
   "execution_count": null,
   "metadata": {},
   "outputs": [],
   "source": [
    "tokenizer = get_tokenizer('basic_english')\n",
    "vocab = build_vocab_from_iterator(map(tokenizer, train_iter), specials=['<unk>'])\n",
    "vocab.set_default_index(vocab['<unk>']) "
   ]
  },
  {
   "cell_type": "code",
   "execution_count": 6,
   "metadata": {},
   "outputs": [
    {
     "name": "stdout",
     "output_type": "stream",
     "text": [
      "['i', 'have', 'a', 'word', '!']\n"
     ]
    }
   ],
   "source": [
    "# 支持汉字的tokenizer\n",
    "tokenizer=get_tokenizer('basic_english')\n",
    "sen='i have a word!'\n",
    "token=tokenizer(sen)\n",
    "print(token)"
   ]
  },
  {
   "cell_type": "code",
   "execution_count": 9,
   "metadata": {},
   "outputs": [],
   "source": [
    "# 26个字母字符串\n",
    "alphabet='abcdefghijklmnopqrstuvwxyz'\n"
   ]
  },
  {
   "cell_type": "code",
   "execution_count": 56,
   "metadata": {},
   "outputs": [],
   "source": [
    "encoder = nn.Embedding(26, 10)"
   ]
  },
  {
   "cell_type": "code",
   "execution_count": null,
   "metadata": {},
   "outputs": [],
   "source": [
    "t = torch.randn(26,10)\n",
    "encoder(t).shape"
   ]
  },
  {
   "cell_type": "code",
   "execution_count": null,
   "metadata": {},
   "outputs": [],
   "source": [
    "src: Tensor, shape [seq_len, batch_size]"
   ]
  }
 ],
 "metadata": {
  "kernelspec": {
   "display_name": "base",
   "language": "python",
   "name": "python3"
  },
  "language_info": {
   "codemirror_mode": {
    "name": "ipython",
    "version": 3
   },
   "file_extension": ".py",
   "mimetype": "text/x-python",
   "name": "python",
   "nbconvert_exporter": "python",
   "pygments_lexer": "ipython3",
   "version": "3.9.15"
  },
  "orig_nbformat": 4,
  "vscode": {
   "interpreter": {
    "hash": "2e1e609ed4275b16681bc4abde79d07778f26b9708257cdaa3e43b60c63d82f8"
   }
  }
 },
 "nbformat": 4,
 "nbformat_minor": 2
}
